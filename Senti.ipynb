{
  "cells": [
    {
      "cell_type": "markdown",
      "source": [
        "cell ini mengimpor modul python"
      ],
      "metadata": {
        "id": "oUKCvMni1Ftr"
      },
      "id": "oUKCvMni1Ftr"
    },
    {
      "cell_type": "code",
      "execution_count": 3,
      "id": "027f3366",
      "metadata": {
        "lines_to_next_cell": 1,
        "colab": {
          "base_uri": "https://localhost:8080/"
        },
        "id": "027f3366",
        "outputId": "74aa20f5-27a8-45e9-a201-e4c4f300b2ee"
      },
      "outputs": [
        {
          "output_type": "stream",
          "name": "stderr",
          "text": [
            "[nltk_data] Downloading package vader_lexicon to /root/nltk_data...\n",
            "[nltk_data]   Package vader_lexicon is already up-to-date!\n"
          ]
        }
      ],
      "source": [
        "import csv\n",
        "import re\n",
        "import pandas as pd\n",
        "import nltk\n",
        "nltk.download('vader_lexicon')\n",
        "from nltk.sentiment.vader import SentimentIntensityAnalyzer\n",
        "import plotly.express as px\n",
        "import plotly.graph_objects as go\n",
        "from colorama import Fore, Style\n",
        "from typing import Dict\n",
        "import streamlit as st"
      ]
    },
    {
      "cell_type": "markdown",
      "source": [
        "cell ini untuk install modul corlorama dan streamlit"
      ],
      "metadata": {
        "id": "6MXTa6Gg1suC"
      },
      "id": "6MXTa6Gg1suC"
    },
    {
      "cell_type": "code",
      "source": [
        "!pip install streamlit\n",
        "!pip install colorama"
      ],
      "metadata": {
        "colab": {
          "base_uri": "https://localhost:8080/"
        },
        "id": "mZGaJ_hC1gfX",
        "outputId": "1fad729b-cec6-41b7-acd6-288c2667df2c"
      },
      "id": "mZGaJ_hC1gfX",
      "execution_count": 2,
      "outputs": [
        {
          "output_type": "stream",
          "name": "stdout",
          "text": [
            "Collecting streamlit\n",
            "  Downloading streamlit-1.37.1-py2.py3-none-any.whl.metadata (8.5 kB)\n",
            "Requirement already satisfied: altair<6,>=4.0 in /usr/local/lib/python3.10/dist-packages (from streamlit) (4.2.2)\n",
            "Requirement already satisfied: blinker<2,>=1.0.0 in /usr/lib/python3/dist-packages (from streamlit) (1.4)\n",
            "Requirement already satisfied: cachetools<6,>=4.0 in /usr/local/lib/python3.10/dist-packages (from streamlit) (5.4.0)\n",
            "Requirement already satisfied: click<9,>=7.0 in /usr/local/lib/python3.10/dist-packages (from streamlit) (8.1.7)\n",
            "Requirement already satisfied: numpy<3,>=1.20 in /usr/local/lib/python3.10/dist-packages (from streamlit) (1.26.4)\n",
            "Requirement already satisfied: packaging<25,>=20 in /usr/local/lib/python3.10/dist-packages (from streamlit) (24.1)\n",
            "Requirement already satisfied: pandas<3,>=1.3.0 in /usr/local/lib/python3.10/dist-packages (from streamlit) (2.1.4)\n",
            "Requirement already satisfied: pillow<11,>=7.1.0 in /usr/local/lib/python3.10/dist-packages (from streamlit) (9.4.0)\n",
            "Requirement already satisfied: protobuf<6,>=3.20 in /usr/local/lib/python3.10/dist-packages (from streamlit) (3.20.3)\n",
            "Requirement already satisfied: pyarrow>=7.0 in /usr/local/lib/python3.10/dist-packages (from streamlit) (14.0.2)\n",
            "Requirement already satisfied: requests<3,>=2.27 in /usr/local/lib/python3.10/dist-packages (from streamlit) (2.32.3)\n",
            "Requirement already satisfied: rich<14,>=10.14.0 in /usr/local/lib/python3.10/dist-packages (from streamlit) (13.7.1)\n",
            "Collecting tenacity<9,>=8.1.0 (from streamlit)\n",
            "  Downloading tenacity-8.5.0-py3-none-any.whl.metadata (1.2 kB)\n",
            "Requirement already satisfied: toml<2,>=0.10.1 in /usr/local/lib/python3.10/dist-packages (from streamlit) (0.10.2)\n",
            "Requirement already satisfied: typing-extensions<5,>=4.3.0 in /usr/local/lib/python3.10/dist-packages (from streamlit) (4.12.2)\n",
            "Collecting gitpython!=3.1.19,<4,>=3.0.7 (from streamlit)\n",
            "  Downloading GitPython-3.1.43-py3-none-any.whl.metadata (13 kB)\n",
            "Collecting pydeck<1,>=0.8.0b4 (from streamlit)\n",
            "  Downloading pydeck-0.9.1-py2.py3-none-any.whl.metadata (4.1 kB)\n",
            "Requirement already satisfied: tornado<7,>=6.0.3 in /usr/local/lib/python3.10/dist-packages (from streamlit) (6.3.3)\n",
            "Collecting watchdog<5,>=2.1.5 (from streamlit)\n",
            "  Downloading watchdog-4.0.1-py3-none-manylinux2014_x86_64.whl.metadata (37 kB)\n",
            "Requirement already satisfied: entrypoints in /usr/local/lib/python3.10/dist-packages (from altair<6,>=4.0->streamlit) (0.4)\n",
            "Requirement already satisfied: jinja2 in /usr/local/lib/python3.10/dist-packages (from altair<6,>=4.0->streamlit) (3.1.4)\n",
            "Requirement already satisfied: jsonschema>=3.0 in /usr/local/lib/python3.10/dist-packages (from altair<6,>=4.0->streamlit) (4.23.0)\n",
            "Requirement already satisfied: toolz in /usr/local/lib/python3.10/dist-packages (from altair<6,>=4.0->streamlit) (0.12.1)\n",
            "Collecting gitdb<5,>=4.0.1 (from gitpython!=3.1.19,<4,>=3.0.7->streamlit)\n",
            "  Downloading gitdb-4.0.11-py3-none-any.whl.metadata (1.2 kB)\n",
            "Requirement already satisfied: python-dateutil>=2.8.2 in /usr/local/lib/python3.10/dist-packages (from pandas<3,>=1.3.0->streamlit) (2.8.2)\n",
            "Requirement already satisfied: pytz>=2020.1 in /usr/local/lib/python3.10/dist-packages (from pandas<3,>=1.3.0->streamlit) (2024.1)\n",
            "Requirement already satisfied: tzdata>=2022.1 in /usr/local/lib/python3.10/dist-packages (from pandas<3,>=1.3.0->streamlit) (2024.1)\n",
            "Requirement already satisfied: charset-normalizer<4,>=2 in /usr/local/lib/python3.10/dist-packages (from requests<3,>=2.27->streamlit) (3.3.2)\n",
            "Requirement already satisfied: idna<4,>=2.5 in /usr/local/lib/python3.10/dist-packages (from requests<3,>=2.27->streamlit) (3.7)\n",
            "Requirement already satisfied: urllib3<3,>=1.21.1 in /usr/local/lib/python3.10/dist-packages (from requests<3,>=2.27->streamlit) (2.0.7)\n",
            "Requirement already satisfied: certifi>=2017.4.17 in /usr/local/lib/python3.10/dist-packages (from requests<3,>=2.27->streamlit) (2024.7.4)\n",
            "Requirement already satisfied: markdown-it-py>=2.2.0 in /usr/local/lib/python3.10/dist-packages (from rich<14,>=10.14.0->streamlit) (3.0.0)\n",
            "Requirement already satisfied: pygments<3.0.0,>=2.13.0 in /usr/local/lib/python3.10/dist-packages (from rich<14,>=10.14.0->streamlit) (2.16.1)\n",
            "Collecting smmap<6,>=3.0.1 (from gitdb<5,>=4.0.1->gitpython!=3.1.19,<4,>=3.0.7->streamlit)\n",
            "  Downloading smmap-5.0.1-py3-none-any.whl.metadata (4.3 kB)\n",
            "Requirement already satisfied: MarkupSafe>=2.0 in /usr/local/lib/python3.10/dist-packages (from jinja2->altair<6,>=4.0->streamlit) (2.1.5)\n",
            "Requirement already satisfied: attrs>=22.2.0 in /usr/local/lib/python3.10/dist-packages (from jsonschema>=3.0->altair<6,>=4.0->streamlit) (24.1.0)\n",
            "Requirement already satisfied: jsonschema-specifications>=2023.03.6 in /usr/local/lib/python3.10/dist-packages (from jsonschema>=3.0->altair<6,>=4.0->streamlit) (2023.12.1)\n",
            "Requirement already satisfied: referencing>=0.28.4 in /usr/local/lib/python3.10/dist-packages (from jsonschema>=3.0->altair<6,>=4.0->streamlit) (0.35.1)\n",
            "Requirement already satisfied: rpds-py>=0.7.1 in /usr/local/lib/python3.10/dist-packages (from jsonschema>=3.0->altair<6,>=4.0->streamlit) (0.19.1)\n",
            "Requirement already satisfied: mdurl~=0.1 in /usr/local/lib/python3.10/dist-packages (from markdown-it-py>=2.2.0->rich<14,>=10.14.0->streamlit) (0.1.2)\n",
            "Requirement already satisfied: six>=1.5 in /usr/local/lib/python3.10/dist-packages (from python-dateutil>=2.8.2->pandas<3,>=1.3.0->streamlit) (1.16.0)\n",
            "Downloading streamlit-1.37.1-py2.py3-none-any.whl (8.7 MB)\n",
            "\u001b[2K   \u001b[90m━━━━━━━━━━━━━━━━━━━━━━━━━━━━━━━━━━━━━━━━\u001b[0m \u001b[32m8.7/8.7 MB\u001b[0m \u001b[31m52.5 MB/s\u001b[0m eta \u001b[36m0:00:00\u001b[0m\n",
            "\u001b[?25hDownloading GitPython-3.1.43-py3-none-any.whl (207 kB)\n",
            "\u001b[2K   \u001b[90m━━━━━━━━━━━━━━━━━━━━━━━━━━━━━━━━━━━━━━━━\u001b[0m \u001b[32m207.3/207.3 kB\u001b[0m \u001b[31m13.7 MB/s\u001b[0m eta \u001b[36m0:00:00\u001b[0m\n",
            "\u001b[?25hDownloading pydeck-0.9.1-py2.py3-none-any.whl (6.9 MB)\n",
            "\u001b[2K   \u001b[90m━━━━━━━━━━━━━━━━━━━━━━━━━━━━━━━━━━━━━━━━\u001b[0m \u001b[32m6.9/6.9 MB\u001b[0m \u001b[31m77.4 MB/s\u001b[0m eta \u001b[36m0:00:00\u001b[0m\n",
            "\u001b[?25hDownloading tenacity-8.5.0-py3-none-any.whl (28 kB)\n",
            "Downloading watchdog-4.0.1-py3-none-manylinux2014_x86_64.whl (83 kB)\n",
            "\u001b[2K   \u001b[90m━━━━━━━━━━━━━━━━━━━━━━━━━━━━━━━━━━━━━━━━\u001b[0m \u001b[32m83.0/83.0 kB\u001b[0m \u001b[31m5.9 MB/s\u001b[0m eta \u001b[36m0:00:00\u001b[0m\n",
            "\u001b[?25hDownloading gitdb-4.0.11-py3-none-any.whl (62 kB)\n",
            "\u001b[2K   \u001b[90m━━━━━━━━━━━━━━━━━━━━━━━━━━━━━━━━━━━━━━━━\u001b[0m \u001b[32m62.7/62.7 kB\u001b[0m \u001b[31m5.0 MB/s\u001b[0m eta \u001b[36m0:00:00\u001b[0m\n",
            "\u001b[?25hDownloading smmap-5.0.1-py3-none-any.whl (24 kB)\n",
            "Installing collected packages: watchdog, tenacity, smmap, pydeck, gitdb, gitpython, streamlit\n",
            "  Attempting uninstall: tenacity\n",
            "    Found existing installation: tenacity 9.0.0\n",
            "    Uninstalling tenacity-9.0.0:\n",
            "      Successfully uninstalled tenacity-9.0.0\n",
            "Successfully installed gitdb-4.0.11 gitpython-3.1.43 pydeck-0.9.1 smmap-5.0.1 streamlit-1.37.1 tenacity-8.5.0 watchdog-4.0.1\n",
            "Collecting colorama\n",
            "  Downloading colorama-0.4.6-py2.py3-none-any.whl.metadata (17 kB)\n",
            "Downloading colorama-0.4.6-py2.py3-none-any.whl (25 kB)\n",
            "Installing collected packages: colorama\n",
            "Successfully installed colorama-0.4.6\n"
          ]
        }
      ]
    },
    {
      "cell_type": "markdown",
      "source": [
        "cell ini untuk mengekstrak id vidio dari youtube"
      ],
      "metadata": {
        "id": "zIHPR0Pi1fD7"
      },
      "id": "zIHPR0Pi1fD7"
    },
    {
      "cell_type": "code",
      "execution_count": 4,
      "id": "5d7ea644",
      "metadata": {
        "lines_to_next_cell": 1,
        "id": "5d7ea644"
      },
      "outputs": [],
      "source": [
        "def extract_video_id(youtube_link):\n",
        "    video_id_regex = r\"^(?:https?:\\/\\/)?(?:www\\.)?(?:youtube\\.com\\/watch\\?v=|youtu.be\\/)([a-zA-Z0-9_-]{11})\"\n",
        "    match = re.search(video_id_regex, youtube_link)\n",
        "    if match:\n",
        "        video_id = match.group(1)\n",
        "        return video_id\n",
        "    else:\n",
        "        return None"
      ]
    },
    {
      "cell_type": "markdown",
      "source": [
        "cell ini untuk menganalisis dan dijadikan file .csv"
      ],
      "metadata": {
        "id": "TYTrG2eV2-J-"
      },
      "id": "TYTrG2eV2-J-"
    },
    {
      "cell_type": "code",
      "execution_count": 5,
      "id": "e7ccaeac",
      "metadata": {
        "lines_to_next_cell": 1,
        "id": "e7ccaeac"
      },
      "outputs": [],
      "source": [
        "def analyze_sentiment(csv_file):\n",
        "    # Initialize the sentiment analyzer\n",
        "    sid = SentimentIntensityAnalyzer()\n",
        "\n",
        "    # Read in the YouTube comments from the CSV file\n",
        "    comments = []\n",
        "    with open(csv_file, 'r', encoding='utf-8-sig') as csvfile:\n",
        "        reader = csv.DictReader(csvfile)\n",
        "        for row in reader:\n",
        "            comments.append(row['Comment'])\n",
        "\n",
        "    # Count the number of neutral, positive, and negative comments\n",
        "    num_neutral = 0\n",
        "    num_positive = 0\n",
        "    num_negative = 0\n",
        "    for comment in comments:\n",
        "        sentiment_scores = sid.polarity_scores(comment)\n",
        "        if sentiment_scores['compound'] == 0.0:\n",
        "            num_neutral += 1\n",
        "        elif sentiment_scores['compound'] > 0.0:\n",
        "            num_positive += 1\n",
        "        else:\n",
        "            num_negative += 1\n",
        "\n",
        "    # Return the results as a dictionary\n",
        "    results = {'num_neutral': num_neutral, 'num_positive': num_positive, 'num_negative': num_negative}\n",
        "    return results"
      ]
    },
    {
      "cell_type": "markdown",
      "source": [
        "cell ini digunakan untuk menampilkan hasil dalam bentuk diagram batang"
      ],
      "metadata": {
        "id": "Vy6xnJnH3JYi"
      },
      "id": "Vy6xnJnH3JYi"
    },
    {
      "cell_type": "code",
      "execution_count": 6,
      "id": "75120774",
      "metadata": {
        "lines_to_next_cell": 1,
        "id": "75120774"
      },
      "outputs": [],
      "source": [
        "def bar_chart(csv_file: str) -> None:\n",
        "    # Call analyze_sentiment function to get the results\n",
        "    results: Dict[str, int] = analyze_sentiment(csv_file)\n",
        "\n",
        "    # Get the counts for each sentiment category\n",
        "    num_neutral = results['num_neutral']\n",
        "    num_positive = results['num_positive']\n",
        "    num_negative = results['num_negative']\n",
        "\n",
        "    # Create a Pandas DataFrame with the results\n",
        "    df = pd.DataFrame({\n",
        "        'Sentiment': ['Positive', 'Negative', 'Neutral'],\n",
        "        'Number of Comments': [num_positive, num_negative, num_neutral]\n",
        "    })\n",
        "\n",
        "    # Create the bar chart using Plotly Express\n",
        "    fig = px.bar(df, x='Sentiment', y='Number of Comments', color='Sentiment',\n",
        "                 color_discrete_sequence=['#87CEFA', '#FFA07A', '#D3D3D3'],\n",
        "                 title='Sentiment Analysis Results')\n",
        "    fig.update_layout(title_font=dict(size=20))\n",
        "\n",
        "\n",
        "    # Show the chart\n",
        "    st.plotly_chart(fig, use_container_width=True)"
      ]
    },
    {
      "cell_type": "markdown",
      "source": [
        "cell berikut digunakan untuk membuat visualisasi analisis sentimen dari sebuah file CSV."
      ],
      "metadata": {
        "id": "3-YVWaks3j0i"
      },
      "id": "3-YVWaks3j0i"
    },
    {
      "cell_type": "code",
      "execution_count": 7,
      "id": "2be7024f",
      "metadata": {
        "id": "2be7024f"
      },
      "outputs": [],
      "source": [
        "def plot_sentiment(csv_file: str) -> None:\n",
        "    # Call analyze_sentiment function to get the results\n",
        "    results: Dict[str, int] = analyze_sentiment(csv_file)\n",
        "\n",
        "    # Get the counts for each sentiment category\n",
        "    num_neutral = results['num_neutral']\n",
        "    num_positive = results['num_positive']\n",
        "    num_negative = results['num_negative']\n",
        "\n",
        "    # Plot the pie chart\n",
        "    labels = ['Neutral', 'Positive', 'Negative']\n",
        "    values = [num_neutral, num_positive, num_negative]\n",
        "    colors = ['yellow', 'green', 'red']\n",
        "    fig = go.Figure(data=[go.Pie(labels=labels, values=values, textinfo='label+percent',\n",
        "                                 marker=dict(colors=colors))])\n",
        "    fig.update_layout(title={'text': 'Sentiment Analysis Results', 'font': {'size': 20, 'family': 'Arial', 'color': 'grey'},\n",
        "                              'x': 0.5, 'y': 0.9},\n",
        "                      font=dict(size=14))\n",
        "    st.plotly_chart(fig)"
      ]
    },
    {
      "cell_type": "markdown",
      "source": [
        "cell berikut digunakan untuk igunakan untuk membuat sebuah scatter plot diagram titik"
      ],
      "metadata": {
        "id": "MAsiAfU27aJv"
      },
      "id": "MAsiAfU27aJv"
    },
    {
      "cell_type": "code",
      "execution_count": 10,
      "id": "1e78b31c",
      "metadata": {
        "id": "1e78b31c"
      },
      "outputs": [],
      "source": [
        "def create_scatterplot(csv_file: str, x_column: str, y_column: str) -> None:\n",
        "    # Load data from CSV\n",
        "    data = pd.read_csv(csv_file)\n",
        "\n",
        "    # Create scatter plot using Plotly\n",
        "    fig = px.scatter(data, x=x_column, y=y_column, color='Category')\n",
        "\n",
        "    # Customize layout\n",
        "    fig.update_layout(\n",
        "        title='Scatter Plot',\n",
        "        xaxis_title=x_column,\n",
        "        yaxis_title=y_column,\n",
        "        font=dict(size=18)\n",
        "    )\n",
        "\n",
        "    # Display plot in Streamlit\n",
        "    st.plotly_chart(fig, use_container_width=True)"
      ]
    },
    {
      "cell_type": "markdown",
      "source": [
        "cell berikut digunakan untuk melakukan analisis sentimen"
      ],
      "metadata": {
        "id": "ceMKoGOu8ExQ"
      },
      "id": "ceMKoGOu8ExQ"
    },
    {
      "cell_type": "code",
      "execution_count": 9,
      "id": "1ebdb732",
      "metadata": {
        "id": "1ebdb732"
      },
      "outputs": [],
      "source": [
        "def print_sentiment(csv_file: str) -> None:\n",
        "    # Call analyze_sentiment function to get the results\n",
        "    results: Dict[str, int] = analyze_sentiment(csv_file)\n",
        "\n",
        "    # Get the counts for each sentiment category\n",
        "    num_neutral = results['num_neutral']\n",
        "    num_positive = results['num_positive']\n",
        "    num_negative = results['num_negative']\n",
        "\n",
        "\n",
        "    # Determine the overall sentiment\n",
        "    if num_positive > num_negative:\n",
        "        overall_sentiment = 'POSITIVE'\n",
        "        color = Fore.GREEN\n",
        "    elif num_negative > num_positive:\n",
        "        overall_sentiment = 'NEGATIVE'\n",
        "        color = Fore.RED\n",
        "    else:\n",
        "        overall_sentiment = 'NEUTRAL'\n",
        "        color = Fore.YELLOW\n",
        "\n",
        "    # Print the overall sentiment in color\n",
        "    print('\\n'+ Style.BRIGHT+ color + overall_sentiment.upper().center(50, ' ') + Style.RESET_ALL)"
      ]
    }
  ],
  "metadata": {
    "jupytext": {
      "cell_metadata_filter": "-all",
      "main_language": "python",
      "notebook_metadata_filter": "-all"
    },
    "colab": {
      "provenance": []
    },
    "language_info": {
      "name": "python"
    },
    "kernelspec": {
      "name": "python3",
      "display_name": "Python 3"
    }
  },
  "nbformat": 4,
  "nbformat_minor": 5
}