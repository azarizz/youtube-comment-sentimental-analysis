{
  "cells": [
    {
      "cell_type": "markdown",
      "source": [
        "cell ini digunakan untuk mengimport modul python"
      ],
      "metadata": {
        "id": "npd6s0iER0Qq"
      },
      "id": "npd6s0iER0Qq"
    },
    {
      "cell_type": "code",
      "execution_count": null,
      "id": "c1523aae",
      "metadata": {
        "id": "c1523aae"
      },
      "outputs": [],
      "source": [
        "import streamlit as st\n",
        "import os\n",
        "from Senti import extract_video_id,analyze_sentiment,bar_chart,plot_sentiment\n",
        "from YoutubeCommentScrapper import save_video_comments_to_csv,get_channel_info,youtube,get_channel_id,get_video_stats"
      ]
    },
    {
      "cell_type": "markdown",
      "source": [
        "digunakan untuk membersihkan direktori dari file CSV yang tidak relevan atau tidak sesuai dengan ID video tertentu, memastikan hanya file yang diperlukan yang tersisa di direktori"
      ],
      "metadata": {
        "id": "HJLUW68RR7lk"
      },
      "id": "HJLUW68RR7lk"
    },
    {
      "cell_type": "code",
      "execution_count": null,
      "id": "86cb35df",
      "metadata": {
        "id": "86cb35df"
      },
      "outputs": [],
      "source": [
        "def delete_non_matching_csv_files(directory_path, video_id):\n",
        "    for file_name in os.listdir(directory_path):\n",
        "        if not file_name.endswith('.csv'):\n",
        "            continue\n",
        "        if file_name == f'{video_id}.csv':\n",
        "            continue\n",
        "        os.remove(os.path.join(directory_path, file_name))"
      ]
    },
    {
      "cell_type": "markdown",
      "source": [
        "digunakan untuk membangun antarmuka pengguna web"
      ],
      "metadata": {
        "id": "-4DLwDPZaLly"
      },
      "id": "-4DLwDPZaLly"
    },
    {
      "cell_type": "code",
      "execution_count": null,
      "id": "992b4c9d",
      "metadata": {
        "lines_to_next_cell": 2,
        "id": "992b4c9d"
      },
      "outputs": [],
      "source": [
        "st.set_page_config(page_title='Jatin_Agrawal_20BCS6606', page_icon = 'LOGO.png', initial_sidebar_state = 'auto')\n",
        "#st.set_page_config(page_title=None, page_icon=None, layout=\"centered\", initial_sidebar_state=\"auto\", menu_items=None)\n",
        "st.sidebar.title(\"Sentimental Analsis\")\n",
        "st.sidebar.header(\"Enter YouTube Link\")\n",
        "youtube_link = st.sidebar.text_input(\"Link\")\n",
        "directory_path = os.getcwd()\n",
        "hide_st_style = \"\"\"\n",
        "            <style>\n",
        "            #MainMenu {visibility: hidden;}\n",
        "            footer {visibility: hidden;}\n",
        "            </style>\n",
        "            \"\"\"\n",
        "st.markdown(hide_st_style, unsafe_allow_html=True)"
      ]
    },
    {
      "cell_type": "markdown",
      "source": [
        "digunakan untuk memasukkan link YouTube, mengumpulkan dan menganalisis komentar, serta menampilkan informasi video dan saluran dengan cara yang interaktif dan informatif"
      ],
      "metadata": {
        "id": "PcW7wmdaascB"
      },
      "id": "PcW7wmdaascB"
    },
    {
      "cell_type": "code",
      "execution_count": null,
      "id": "20797356",
      "metadata": {
        "id": "20797356"
      },
      "outputs": [],
      "source": [
        "if youtube_link:\n",
        "    video_id = extract_video_id(youtube_link)\n",
        "    channel_id = get_channel_id(video_id)\n",
        "    if video_id:\n",
        "        st.sidebar.write(\"The video ID is:\", video_id)\n",
        "        csv_file = save_video_comments_to_csv(video_id)\n",
        "        delete_non_matching_csv_files(directory_path,video_id)\n",
        "        st.sidebar.write(\"Comments saved to CSV!\")\n",
        "        st.sidebar.download_button(label=\"Download Comments\", data=open(csv_file, 'rb').read(), file_name=os.path.basename(csv_file), mime=\"text/csv\")\n",
        "\n",
        "        #using fn\n",
        "        channel_info = get_channel_info(youtube,channel_id)\n",
        "\n",
        "        col1, col2 = st.columns(2)\n",
        "\n",
        "        with col1:\n",
        "           channel_logo_url = channel_info['channel_logo_url']\n",
        "           st.image(channel_logo_url, width=250)\n",
        "\n",
        "        with col2:\n",
        "           channel_title = channel_info['channel_title']\n",
        "           st.title(' ')\n",
        "           st.text(\"  YouTube Channel Name  \")\n",
        "           #st.markdown('** YouTube Channel Name **')\n",
        "           st.title(channel_title)\n",
        "           st.title(\"  \")\n",
        "           st.title(\" \")\n",
        "           st.title(\" \")\n",
        "\n",
        "\n",
        "        #Using fn\n",
        "\n",
        "\n",
        "\n",
        "        st.title(\" \")\n",
        "        col3, col4 ,col5 = st.columns(3)\n",
        "\n",
        "\n",
        "        with col3:\n",
        "           video_count=channel_info['video_count']\n",
        "           st.header(\"  Total Videos  \")\n",
        "           #st.subheader(\"Total Videos\")\n",
        "           st.subheader(video_count)\n",
        "\n",
        "        with col4:\n",
        "           channel_created_date= channel_info['channel_created_date']\n",
        "           created_date = channel_created_date[:10]\n",
        "           st.header(\"Channel Created \")\n",
        "           st.subheader(created_date)\n",
        "\n",
        "        with col5:\n",
        "\n",
        "            st.header(\" Subscriber_Count \")\n",
        "            st.subheader(channel_info[\"subscriber_count\"])\n",
        "\n",
        "        st.title(\" \")\n",
        "\n",
        "        stats = get_video_stats(video_id)\n",
        "\n",
        "        st.title(\"Video Information :\")\n",
        "        col6, col7 ,col8 = st.columns(3)\n",
        "\n",
        "\n",
        "        with col6:\n",
        "            st.header(\"  Total Views  \")\n",
        "           #st.subheader(\"Total Videos\")\n",
        "            st.subheader(stats[\"viewCount\"])\n",
        "\n",
        "        with col7:\n",
        "           st.header(\" Like Count \")\n",
        "           st.subheader(stats[\"likeCount\"])\n",
        "\n",
        "\n",
        "        with col8:\n",
        "\n",
        "            st.header(\" Comment Count \")\n",
        "            st.subheader(stats[\"commentCount\"])\n",
        "\n",
        "        st.header(\" \")\n",
        "\n",
        "\n",
        "        _, container, _ = st.columns([10, 80, 10])\n",
        "        container.video(data=youtube_link)\n",
        "\n",
        "\n",
        "\n",
        "\n",
        "\n",
        "        results = analyze_sentiment(csv_file)\n",
        "\n",
        "\n",
        "        col9, col10 ,col11 = st.columns(3)\n",
        "\n",
        "\n",
        "        with col9:\n",
        "            st.header(\"  Positive Comments  \")\n",
        "           #st.subheader(\"Total Videos\")\n",
        "            st.subheader(results['num_positive'])\n",
        "\n",
        "        with col10:\n",
        "           st.header(\" Negative Comments \")\n",
        "           st.subheader( results['num_negative'])\n",
        "\n",
        "\n",
        "        with col11:\n",
        "\n",
        "            st.header(\" Neutral Comments \")\n",
        "            st.subheader(results['num_neutral'])\n",
        "\n",
        "\n",
        "        bar_chart(csv_file)\n",
        "\n",
        "        plot_sentiment(csv_file)\n",
        "\n",
        "\n",
        "        st.subheader(\"Channel Description \")\n",
        "        channel_description = channel_info['channel_description']\n",
        "        st.write(channel_description)\n",
        "\n",
        "    else:\n",
        "        st.error(\"Invalid YouTube link\")"
      ]
    }
  ],
  "metadata": {
    "jupytext": {
      "cell_metadata_filter": "-all",
      "main_language": "python",
      "notebook_metadata_filter": "-all"
    },
    "colab": {
      "provenance": []
    },
    "language_info": {
      "name": "python"
    },
    "kernelspec": {
      "name": "python3",
      "display_name": "Python 3"
    }
  },
  "nbformat": 4,
  "nbformat_minor": 5
}